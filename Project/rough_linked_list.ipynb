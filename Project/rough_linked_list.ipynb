{
 "cells": [
  {
   "cell_type": "code",
   "execution_count": 3,
   "metadata": {},
   "outputs": [
    {
     "ename": "TypeError",
     "evalue": "Customer.__init__() takes 9 positional arguments but 10 were given",
     "output_type": "error",
     "traceback": [
      "\u001b[0;31m---------------------------------------------------------------------------\u001b[0m",
      "\u001b[0;31mTypeError\u001b[0m                                 Traceback (most recent call last)",
      "Cell \u001b[0;32mIn[3], line 48\u001b[0m\n\u001b[1;32m     36\u001b[0m     \u001b[38;5;66;03m#def update_information(self, customer_id):\u001b[39;00m\n\u001b[1;32m     37\u001b[0m \n\u001b[1;32m     38\u001b[0m     \u001b[38;5;66;03m#def add_customer_feedback(self, customer_id): #this means they have come back from their trip\u001b[39;00m\n\u001b[0;32m   (...)\u001b[0m\n\u001b[1;32m     45\u001b[0m \n\u001b[1;32m     46\u001b[0m \u001b[38;5;66;03m# Example usage:\u001b[39;00m\n\u001b[1;32m     47\u001b[0m customer_list \u001b[38;5;241m=\u001b[39m CustomerLinkedList()\n\u001b[0;32m---> 48\u001b[0m customer_list\u001b[38;5;241m.\u001b[39madd_customer(\u001b[38;5;241m1\u001b[39m, \u001b[38;5;124m\"\u001b[39m\u001b[38;5;124mJohn Doe\u001b[39m\u001b[38;5;124m\"\u001b[39m, \u001b[38;5;124m\"\u001b[39m\u001b[38;5;124mjohn@example.com\u001b[39m\u001b[38;5;124m\"\u001b[39m, \u001b[38;5;124m\"\u001b[39m\u001b[38;5;124m123-456-7890\u001b[39m\u001b[38;5;124m\"\u001b[39m, \u001b[38;5;124m\"\u001b[39m\u001b[38;5;124maddress\u001b[39m\u001b[38;5;124m\"\u001b[39m, \u001b[38;5;124m\"\u001b[39m\u001b[38;5;124melements\u001b[39m\u001b[38;5;124m\"\u001b[39m, \u001b[38;5;124m\"\u001b[39m\u001b[38;5;124mcountry\u001b[39m\u001b[38;5;124m\"\u001b[39m, \u001b[38;5;124m\"\u001b[39m\u001b[38;5;124mprice\u001b[39m\u001b[38;5;124m\"\u001b[39m)\n\u001b[1;32m     49\u001b[0m \u001b[38;5;66;03m#customer_list.add_customer(2, \"Jane Smith\", \"jane@example.com\", \"987-654-3210\")\u001b[39;00m\n\u001b[1;32m     51\u001b[0m \u001b[38;5;28mprint\u001b[39m(\u001b[38;5;124m\"\u001b[39m\u001b[38;5;124mList of Customers:\u001b[39m\u001b[38;5;124m\"\u001b[39m)\n",
      "Cell \u001b[0;32mIn[3], line 14\u001b[0m, in \u001b[0;36mCustomerLinkedList.add_customer\u001b[0;34m(self, customer_id, name, email, phone, address, elements, country, price)\u001b[0m\n\u001b[1;32m     13\u001b[0m \u001b[38;5;28;01mdef\u001b[39;00m \u001b[38;5;21madd_customer\u001b[39m(\u001b[38;5;28mself\u001b[39m, customer_id, name, email, phone, address, elements, country, price):\n\u001b[0;32m---> 14\u001b[0m     new_customer \u001b[38;5;241m=\u001b[39m Customer(\u001b[38;5;28mself\u001b[39m, customer_id, name, email, phone, address, elements, country, price)\n\u001b[1;32m     15\u001b[0m     \u001b[38;5;28;01mif\u001b[39;00m \u001b[38;5;129;01mnot\u001b[39;00m \u001b[38;5;28mself\u001b[39m\u001b[38;5;241m.\u001b[39mhead:\n\u001b[1;32m     16\u001b[0m         \u001b[38;5;28mself\u001b[39m\u001b[38;5;241m.\u001b[39mhead \u001b[38;5;241m=\u001b[39m new_customer\n",
      "\u001b[0;31mTypeError\u001b[0m: Customer.__init__() takes 9 positional arguments but 10 were given"
     ]
    }
   ],
   "source": [
    "class Customer:\n",
    "    def __init__(self, customer_id, name, email, phone, address, elements, country, price):\n",
    "        self.customer_id = customer_id\n",
    "        self.name = name\n",
    "        self.email = email\n",
    "        self.phone = phone\n",
    "        self.next_customer = None\n",
    "\n",
    "class CustomerLinkedList:\n",
    "    def __init__(self):\n",
    "        self.head = None\n",
    "\n",
    "    def add_customer(self, customer_id, name, email, phone, address, elements, country, price):\n",
    "        new_customer = Customer(self, customer_id, name, email, phone, address, elements, country, price)\n",
    "        if not self.head:\n",
    "            self.head = new_customer\n",
    "        else:\n",
    "            current = self.head\n",
    "            while current.next_customer:\n",
    "                current = current.next_customer\n",
    "            current.next_customer = new_customer\n",
    "\n",
    "    def display_customers(self):\n",
    "        current = self.head\n",
    "        while current:\n",
    "            print(\"Customer ID:\", current.customer_id)\n",
    "            print(\"Name:\", current.name)\n",
    "            print(\"Email:\", current.email)\n",
    "            print(\"Phone:\", current.phone)\n",
    "            print(\"------------------------\")\n",
    "            current = current.next_customer\n",
    "            \n",
    "    def remove_customer(self):\n",
    "        current = self.head \n",
    "\n",
    "    def update_information(self, customer_id):\n",
    "\n",
    "    def add_customer_feedback(self, customer_id): #this means they have come back from their trip\n",
    "\n",
    "    def export_all_customer_information(self, customer_id):\n",
    "\n",
    "    def add_another_package(self, customer_id):\n",
    "\n",
    "    def view_linked_list(self):\n",
    "\n",
    "    \n",
    "\n",
    "# Example usage:\n",
    "customer_list = CustomerLinkedList()\n",
    "customer_list.add_customer(1, \"John Doe\", \"john@example.com\", \"123-456-7890\", \"address\", \"elements\", \"country\", \"price\")\n",
    "#customer_list.add_customer(2, \"Jane Smith\", \"jane@example.com\", \"987-654-3210\")\n",
    "\n",
    "print(\"List of Customers:\")\n",
    "print(\"------------------------\")\n",
    "customer_list.display_customers()\n"
   ]
  }
 ],
 "metadata": {
  "kernelspec": {
   "display_name": "base",
   "language": "python",
   "name": "python3"
  },
  "language_info": {
   "codemirror_mode": {
    "name": "ipython",
    "version": 3
   },
   "file_extension": ".py",
   "mimetype": "text/x-python",
   "name": "python",
   "nbconvert_exporter": "python",
   "pygments_lexer": "ipython3",
   "version": "3.11.5"
  }
 },
 "nbformat": 4,
 "nbformat_minor": 2
}
