{
 "cells": [
  {
   "cell_type": "raw",
   "metadata": {
    "vscode": {
     "languageId": "raw"
    }
   },
   "source": [
    "---\n",
    "title: Mastering CRM and Data Structures\n",
    "\n",
    "author: Hannah Kim, Kendall Gilbert\n",
    "format:\n",
    "    html:\n",
    "        embed-resources: true  \n",
    "---"
   ]
  },
  {
   "cell_type": "markdown",
   "metadata": {},
   "source": [
    "### Question #3 Exploring Applications\n",
    "\n",
    "**Exploration: Examining different applications of the data structure that make it helpful for particular fields**\n",
    "\n",
    "**Topic Chosen:**\n",
    "\n",
    "Customer Relationship Management Systems\n",
    "\n",
    "**Identify a substantive application of that topic in a field you are interested in: e.g., bioinformatics, marketing, finance, NLP, image processing, operations management, social science:**\n",
    "\n",
    "Marketing\n",
    "\n",
    "**Write a Literature Review section containing a few examples of the use of the topic in your chosen field that are particularly interesting to you:**\n",
    "\n",
    "You can find the literature review [here](litreview.qmd).\n",
    "\n",
    "**Create a Quarto document or Jupyter notebook containing code that you wrote yourself which illustrates the application of the data structure or algorithm within your domain of interest, describing in your own words (through comments or Markdown text above/below the code) how the code works and what it does.**\n",
    "\n",
    "Our data structure can be found [here](code.qmd)."
   ]
  }
 ],
 "metadata": {
  "kernelspec": {
   "display_name": "base",
   "language": "python",
   "name": "python3"
  },
  "language_info": {
   "codemirror_mode": {
    "name": "ipython",
    "version": 3
   },
   "file_extension": ".py",
   "mimetype": "text/x-python",
   "name": "python",
   "nbconvert_exporter": "python",
   "pygments_lexer": "ipython3",
   "version": "3.11.8"
  }
 },
 "nbformat": 4,
 "nbformat_minor": 2
}
